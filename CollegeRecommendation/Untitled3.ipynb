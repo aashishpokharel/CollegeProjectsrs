{
 "cells": [
  {
   "cell_type": "code",
   "execution_count": 1,
   "id": "c6079cfc",
   "metadata": {},
   "outputs": [],
   "source": [
    "import pickle"
   ]
  },
  {
   "cell_type": "code",
   "execution_count": 4,
   "id": "fd442d5e",
   "metadata": {},
   "outputs": [],
   "source": [
    "def add(a,b):\n",
    "    return a+b"
   ]
  },
  {
   "cell_type": "code",
   "execution_count": 5,
   "id": "1023b7ca",
   "metadata": {},
   "outputs": [],
   "source": [
    "file = open('function.pkl', 'wb')"
   ]
  },
  {
   "cell_type": "code",
   "execution_count": 6,
   "id": "cea1539f",
   "metadata": {},
   "outputs": [],
   "source": [
    "pickle.dump(add, file)"
   ]
  },
  {
   "cell_type": "code",
   "execution_count": 7,
   "id": "f26a416c",
   "metadata": {},
   "outputs": [],
   "source": [
    "file.close()"
   ]
  },
  {
   "cell_type": "code",
   "execution_count": 8,
   "id": "9eb47164",
   "metadata": {},
   "outputs": [],
   "source": [
    "#unplickling\n",
    "fileo = open('function.pkl','rb')"
   ]
  },
  {
   "cell_type": "code",
   "execution_count": 9,
   "id": "63211499",
   "metadata": {},
   "outputs": [],
   "source": [
    "addition = pickle.load(fileo)"
   ]
  },
  {
   "cell_type": "code",
   "execution_count": 10,
   "id": "e5cd9fa2",
   "metadata": {},
   "outputs": [],
   "source": [
    "fileo.close()"
   ]
  },
  {
   "cell_type": "code",
   "execution_count": 13,
   "id": "b7ad6bb8",
   "metadata": {},
   "outputs": [
    {
     "name": "stdout",
     "output_type": "stream",
     "text": [
      "Enter the first number:23\n",
      "Enter the second number:45\n",
      "Sum of number entered is: 68\n"
     ]
    }
   ],
   "source": [
    "#call the function\n",
    "x = int(input(\"Enter the first number:\"))\n",
    "y = int(input(\"Enter the second number:\"))\n",
    "print(\"Sum of number entered is:\",addition(x,y))"
   ]
  },
  {
   "cell_type": "code",
   "execution_count": null,
   "id": "ef33202a",
   "metadata": {},
   "outputs": [],
   "source": []
  },
  {
   "cell_type": "code",
   "execution_count": null,
   "id": "a6ac6d28",
   "metadata": {},
   "outputs": [],
   "source": []
  }
 ],
 "metadata": {
  "kernelspec": {
   "display_name": "Python 3 (ipykernel)",
   "language": "python",
   "name": "python3"
  },
  "language_info": {
   "codemirror_mode": {
    "name": "ipython",
    "version": 3
   },
   "file_extension": ".py",
   "mimetype": "text/x-python",
   "name": "python",
   "nbconvert_exporter": "python",
   "pygments_lexer": "ipython3",
   "version": "3.9.5"
  }
 },
 "nbformat": 4,
 "nbformat_minor": 5
}
